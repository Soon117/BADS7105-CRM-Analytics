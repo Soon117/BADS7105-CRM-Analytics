{
  "nbformat": 4,
  "nbformat_minor": 0,
  "metadata": {
    "colab": {
      "name": "VOC_6310422023.ipynb",
      "provenance": [],
      "collapsed_sections": []
    },
    "kernelspec": {
      "display_name": "Python 3",
      "language": "python",
      "name": "python3"
    },
    "language_info": {
      "codemirror_mode": {
        "name": "ipython",
        "version": 3
      },
      "file_extension": ".py",
      "mimetype": "text/x-python",
      "name": "python",
      "nbconvert_exporter": "python",
      "pygments_lexer": "ipython3",
      "version": "3.7.6"
    }
  },
  "cells": [
    {
      "cell_type": "markdown",
      "metadata": {
        "id": "WrQbd86APp-2"
      },
      "source": [
        "**Step 0 - install and import dependencies**"
      ]
    },
    {
      "cell_type": "code",
      "metadata": {
        "colab": {
          "base_uri": "https://localhost:8080/"
        },
        "id": "bF2rn-l5Rp4U",
        "outputId": "f8799fb3-68b5-4707-b8f5-529fde3a064d"
      },
      "source": [
        "!pip install pythainlp"
      ],
      "execution_count": 1,
      "outputs": [
        {
          "output_type": "stream",
          "name": "stdout",
          "text": [
            "Collecting pythainlp\n",
            "  Downloading pythainlp-2.3.2-py3-none-any.whl (11.0 MB)\n",
            "\u001b[K     |████████████████████████████████| 11.0 MB 33.5 MB/s \n",
            "\u001b[?25hCollecting python-crfsuite>=0.9.6\n",
            "  Downloading python_crfsuite-0.9.7-cp37-cp37m-manylinux1_x86_64.whl (743 kB)\n",
            "\u001b[K     |████████████████████████████████| 743 kB 54.6 MB/s \n",
            "\u001b[?25hRequirement already satisfied: requests>=2.22.0 in /usr/local/lib/python3.7/dist-packages (from pythainlp) (2.23.0)\n",
            "Collecting tinydb>=3.0\n",
            "  Downloading tinydb-4.5.2-py3-none-any.whl (23 kB)\n",
            "Requirement already satisfied: chardet<4,>=3.0.2 in /usr/local/lib/python3.7/dist-packages (from requests>=2.22.0->pythainlp) (3.0.4)\n",
            "Requirement already satisfied: certifi>=2017.4.17 in /usr/local/lib/python3.7/dist-packages (from requests>=2.22.0->pythainlp) (2021.10.8)\n",
            "Requirement already satisfied: idna<3,>=2.5 in /usr/local/lib/python3.7/dist-packages (from requests>=2.22.0->pythainlp) (2.10)\n",
            "Requirement already satisfied: urllib3!=1.25.0,!=1.25.1,<1.26,>=1.21.1 in /usr/local/lib/python3.7/dist-packages (from requests>=2.22.0->pythainlp) (1.24.3)\n",
            "Requirement already satisfied: typing-extensions<4.0.0,>=3.10.0 in /usr/local/lib/python3.7/dist-packages (from tinydb>=3.0->pythainlp) (3.10.0.2)\n",
            "Installing collected packages: tinydb, python-crfsuite, pythainlp\n",
            "Successfully installed pythainlp-2.3.2 python-crfsuite-0.9.7 tinydb-4.5.2\n"
          ]
        }
      ]
    },
    {
      "cell_type": "code",
      "metadata": {
        "colab": {
          "base_uri": "https://localhost:8080/"
        },
        "id": "9Mv4ycO5H7XR",
        "outputId": "22fd1274-9720-40bb-f0f5-be4d0d2d8318"
      },
      "source": [
        "!pip install tensorflow-text"
      ],
      "execution_count": 2,
      "outputs": [
        {
          "output_type": "stream",
          "name": "stdout",
          "text": [
            "Collecting tensorflow-text\n",
            "  Downloading tensorflow_text-2.7.0-cp37-cp37m-manylinux2010_x86_64.whl (4.9 MB)\n",
            "\u001b[K     |████████████████████████████████| 4.9 MB 32.1 MB/s \n",
            "\u001b[?25hRequirement already satisfied: tensorflow<2.8,>=2.7.0 in /usr/local/lib/python3.7/dist-packages (from tensorflow-text) (2.7.0)\n",
            "Requirement already satisfied: tensorflow-hub>=0.8.0 in /usr/local/lib/python3.7/dist-packages (from tensorflow-text) (0.12.0)\n",
            "Requirement already satisfied: keras-preprocessing>=1.1.1 in /usr/local/lib/python3.7/dist-packages (from tensorflow<2.8,>=2.7.0->tensorflow-text) (1.1.2)\n",
            "Requirement already satisfied: protobuf>=3.9.2 in /usr/local/lib/python3.7/dist-packages (from tensorflow<2.8,>=2.7.0->tensorflow-text) (3.17.3)\n",
            "Requirement already satisfied: grpcio<2.0,>=1.24.3 in /usr/local/lib/python3.7/dist-packages (from tensorflow<2.8,>=2.7.0->tensorflow-text) (1.41.1)\n",
            "Requirement already satisfied: six>=1.12.0 in /usr/local/lib/python3.7/dist-packages (from tensorflow<2.8,>=2.7.0->tensorflow-text) (1.15.0)\n",
            "Requirement already satisfied: tensorflow-estimator<2.8,~=2.7.0rc0 in /usr/local/lib/python3.7/dist-packages (from tensorflow<2.8,>=2.7.0->tensorflow-text) (2.7.0)\n",
            "Requirement already satisfied: astunparse>=1.6.0 in /usr/local/lib/python3.7/dist-packages (from tensorflow<2.8,>=2.7.0->tensorflow-text) (1.6.3)\n",
            "Requirement already satisfied: google-pasta>=0.1.1 in /usr/local/lib/python3.7/dist-packages (from tensorflow<2.8,>=2.7.0->tensorflow-text) (0.2.0)\n",
            "Requirement already satisfied: opt-einsum>=2.3.2 in /usr/local/lib/python3.7/dist-packages (from tensorflow<2.8,>=2.7.0->tensorflow-text) (3.3.0)\n",
            "Requirement already satisfied: numpy>=1.14.5 in /usr/local/lib/python3.7/dist-packages (from tensorflow<2.8,>=2.7.0->tensorflow-text) (1.19.5)\n",
            "Requirement already satisfied: termcolor>=1.1.0 in /usr/local/lib/python3.7/dist-packages (from tensorflow<2.8,>=2.7.0->tensorflow-text) (1.1.0)\n",
            "Requirement already satisfied: h5py>=2.9.0 in /usr/local/lib/python3.7/dist-packages (from tensorflow<2.8,>=2.7.0->tensorflow-text) (3.1.0)\n",
            "Requirement already satisfied: absl-py>=0.4.0 in /usr/local/lib/python3.7/dist-packages (from tensorflow<2.8,>=2.7.0->tensorflow-text) (0.12.0)\n",
            "Requirement already satisfied: keras<2.8,>=2.7.0rc0 in /usr/local/lib/python3.7/dist-packages (from tensorflow<2.8,>=2.7.0->tensorflow-text) (2.7.0)\n",
            "Requirement already satisfied: gast<0.5.0,>=0.2.1 in /usr/local/lib/python3.7/dist-packages (from tensorflow<2.8,>=2.7.0->tensorflow-text) (0.4.0)\n",
            "Requirement already satisfied: wrapt>=1.11.0 in /usr/local/lib/python3.7/dist-packages (from tensorflow<2.8,>=2.7.0->tensorflow-text) (1.13.3)\n",
            "Requirement already satisfied: wheel<1.0,>=0.32.0 in /usr/local/lib/python3.7/dist-packages (from tensorflow<2.8,>=2.7.0->tensorflow-text) (0.37.0)\n",
            "Requirement already satisfied: typing-extensions>=3.6.6 in /usr/local/lib/python3.7/dist-packages (from tensorflow<2.8,>=2.7.0->tensorflow-text) (3.10.0.2)\n",
            "Requirement already satisfied: flatbuffers<3.0,>=1.12 in /usr/local/lib/python3.7/dist-packages (from tensorflow<2.8,>=2.7.0->tensorflow-text) (2.0)\n",
            "Requirement already satisfied: tensorboard~=2.6 in /usr/local/lib/python3.7/dist-packages (from tensorflow<2.8,>=2.7.0->tensorflow-text) (2.7.0)\n",
            "Requirement already satisfied: libclang>=9.0.1 in /usr/local/lib/python3.7/dist-packages (from tensorflow<2.8,>=2.7.0->tensorflow-text) (12.0.0)\n",
            "Requirement already satisfied: tensorflow-io-gcs-filesystem>=0.21.0 in /usr/local/lib/python3.7/dist-packages (from tensorflow<2.8,>=2.7.0->tensorflow-text) (0.21.0)\n",
            "Requirement already satisfied: cached-property in /usr/local/lib/python3.7/dist-packages (from h5py>=2.9.0->tensorflow<2.8,>=2.7.0->tensorflow-text) (1.5.2)\n",
            "Requirement already satisfied: google-auth<3,>=1.6.3 in /usr/local/lib/python3.7/dist-packages (from tensorboard~=2.6->tensorflow<2.8,>=2.7.0->tensorflow-text) (1.35.0)\n",
            "Requirement already satisfied: google-auth-oauthlib<0.5,>=0.4.1 in /usr/local/lib/python3.7/dist-packages (from tensorboard~=2.6->tensorflow<2.8,>=2.7.0->tensorflow-text) (0.4.6)\n",
            "Requirement already satisfied: requests<3,>=2.21.0 in /usr/local/lib/python3.7/dist-packages (from tensorboard~=2.6->tensorflow<2.8,>=2.7.0->tensorflow-text) (2.23.0)\n",
            "Requirement already satisfied: werkzeug>=0.11.15 in /usr/local/lib/python3.7/dist-packages (from tensorboard~=2.6->tensorflow<2.8,>=2.7.0->tensorflow-text) (1.0.1)\n",
            "Requirement already satisfied: markdown>=2.6.8 in /usr/local/lib/python3.7/dist-packages (from tensorboard~=2.6->tensorflow<2.8,>=2.7.0->tensorflow-text) (3.3.4)\n",
            "Requirement already satisfied: tensorboard-data-server<0.7.0,>=0.6.0 in /usr/local/lib/python3.7/dist-packages (from tensorboard~=2.6->tensorflow<2.8,>=2.7.0->tensorflow-text) (0.6.1)\n",
            "Requirement already satisfied: tensorboard-plugin-wit>=1.6.0 in /usr/local/lib/python3.7/dist-packages (from tensorboard~=2.6->tensorflow<2.8,>=2.7.0->tensorflow-text) (1.8.0)\n",
            "Requirement already satisfied: setuptools>=41.0.0 in /usr/local/lib/python3.7/dist-packages (from tensorboard~=2.6->tensorflow<2.8,>=2.7.0->tensorflow-text) (57.4.0)\n",
            "Requirement already satisfied: cachetools<5.0,>=2.0.0 in /usr/local/lib/python3.7/dist-packages (from google-auth<3,>=1.6.3->tensorboard~=2.6->tensorflow<2.8,>=2.7.0->tensorflow-text) (4.2.4)\n",
            "Requirement already satisfied: pyasn1-modules>=0.2.1 in /usr/local/lib/python3.7/dist-packages (from google-auth<3,>=1.6.3->tensorboard~=2.6->tensorflow<2.8,>=2.7.0->tensorflow-text) (0.2.8)\n",
            "Requirement already satisfied: rsa<5,>=3.1.4 in /usr/local/lib/python3.7/dist-packages (from google-auth<3,>=1.6.3->tensorboard~=2.6->tensorflow<2.8,>=2.7.0->tensorflow-text) (4.7.2)\n",
            "Requirement already satisfied: requests-oauthlib>=0.7.0 in /usr/local/lib/python3.7/dist-packages (from google-auth-oauthlib<0.5,>=0.4.1->tensorboard~=2.6->tensorflow<2.8,>=2.7.0->tensorflow-text) (1.3.0)\n",
            "Requirement already satisfied: importlib-metadata in /usr/local/lib/python3.7/dist-packages (from markdown>=2.6.8->tensorboard~=2.6->tensorflow<2.8,>=2.7.0->tensorflow-text) (4.8.2)\n",
            "Requirement already satisfied: pyasn1<0.5.0,>=0.4.6 in /usr/local/lib/python3.7/dist-packages (from pyasn1-modules>=0.2.1->google-auth<3,>=1.6.3->tensorboard~=2.6->tensorflow<2.8,>=2.7.0->tensorflow-text) (0.4.8)\n",
            "Requirement already satisfied: idna<3,>=2.5 in /usr/local/lib/python3.7/dist-packages (from requests<3,>=2.21.0->tensorboard~=2.6->tensorflow<2.8,>=2.7.0->tensorflow-text) (2.10)\n",
            "Requirement already satisfied: chardet<4,>=3.0.2 in /usr/local/lib/python3.7/dist-packages (from requests<3,>=2.21.0->tensorboard~=2.6->tensorflow<2.8,>=2.7.0->tensorflow-text) (3.0.4)\n",
            "Requirement already satisfied: urllib3!=1.25.0,!=1.25.1,<1.26,>=1.21.1 in /usr/local/lib/python3.7/dist-packages (from requests<3,>=2.21.0->tensorboard~=2.6->tensorflow<2.8,>=2.7.0->tensorflow-text) (1.24.3)\n",
            "Requirement already satisfied: certifi>=2017.4.17 in /usr/local/lib/python3.7/dist-packages (from requests<3,>=2.21.0->tensorboard~=2.6->tensorflow<2.8,>=2.7.0->tensorflow-text) (2021.10.8)\n",
            "Requirement already satisfied: oauthlib>=3.0.0 in /usr/local/lib/python3.7/dist-packages (from requests-oauthlib>=0.7.0->google-auth-oauthlib<0.5,>=0.4.1->tensorboard~=2.6->tensorflow<2.8,>=2.7.0->tensorflow-text) (3.1.1)\n",
            "Requirement already satisfied: zipp>=0.5 in /usr/local/lib/python3.7/dist-packages (from importlib-metadata->markdown>=2.6.8->tensorboard~=2.6->tensorflow<2.8,>=2.7.0->tensorflow-text) (3.6.0)\n",
            "Installing collected packages: tensorflow-text\n",
            "Successfully installed tensorflow-text-2.7.0\n"
          ]
        }
      ]
    },
    {
      "cell_type": "code",
      "metadata": {
        "colab": {
          "base_uri": "https://localhost:8080/"
        },
        "id": "hTNHKdLxH7XS",
        "outputId": "586629f8-a70a-4600-84fc-ea7ccee440ca"
      },
      "source": [
        "!pip install umap-learn"
      ],
      "execution_count": 3,
      "outputs": [
        {
          "output_type": "stream",
          "name": "stdout",
          "text": [
            "Collecting umap-learn\n",
            "  Downloading umap-learn-0.5.2.tar.gz (86 kB)\n",
            "\u001b[K     |████████████████████████████████| 86 kB 5.9 MB/s \n",
            "\u001b[?25hRequirement already satisfied: numpy>=1.17 in /usr/local/lib/python3.7/dist-packages (from umap-learn) (1.19.5)\n",
            "Requirement already satisfied: scikit-learn>=0.22 in /usr/local/lib/python3.7/dist-packages (from umap-learn) (0.22.2.post1)\n",
            "Requirement already satisfied: scipy>=1.0 in /usr/local/lib/python3.7/dist-packages (from umap-learn) (1.4.1)\n",
            "Requirement already satisfied: numba>=0.49 in /usr/local/lib/python3.7/dist-packages (from umap-learn) (0.51.2)\n",
            "Collecting pynndescent>=0.5\n",
            "  Downloading pynndescent-0.5.5.tar.gz (1.1 MB)\n",
            "\u001b[K     |████████████████████████████████| 1.1 MB 37.3 MB/s \n",
            "\u001b[?25hRequirement already satisfied: tqdm in /usr/local/lib/python3.7/dist-packages (from umap-learn) (4.62.3)\n",
            "Requirement already satisfied: setuptools in /usr/local/lib/python3.7/dist-packages (from numba>=0.49->umap-learn) (57.4.0)\n",
            "Requirement already satisfied: llvmlite<0.35,>=0.34.0.dev0 in /usr/local/lib/python3.7/dist-packages (from numba>=0.49->umap-learn) (0.34.0)\n",
            "Requirement already satisfied: joblib>=0.11 in /usr/local/lib/python3.7/dist-packages (from pynndescent>=0.5->umap-learn) (1.1.0)\n",
            "Building wheels for collected packages: umap-learn, pynndescent\n",
            "  Building wheel for umap-learn (setup.py) ... \u001b[?25l\u001b[?25hdone\n",
            "  Created wheel for umap-learn: filename=umap_learn-0.5.2-py3-none-any.whl size=82709 sha256=db44e529a389ca69f57a37d678f9db65b0d4816e2cef68f5933340a5b63d39f2\n",
            "  Stored in directory: /root/.cache/pip/wheels/84/1b/c6/aaf68a748122632967cef4dffef68224eb16798b6793257d82\n",
            "  Building wheel for pynndescent (setup.py) ... \u001b[?25l\u001b[?25hdone\n",
            "  Created wheel for pynndescent: filename=pynndescent-0.5.5-py3-none-any.whl size=52603 sha256=7d7066d440d59bfd33bd82f6eb25d585617f0ff1b35f35de3a664c46559b0e7a\n",
            "  Stored in directory: /root/.cache/pip/wheels/af/e9/33/04db1436df0757c42fda8ea6796d7a8586e23c85fac355f476\n",
            "Successfully built umap-learn pynndescent\n",
            "Installing collected packages: pynndescent, umap-learn\n",
            "Successfully installed pynndescent-0.5.5 umap-learn-0.5.2\n"
          ]
        }
      ]
    },
    {
      "cell_type": "code",
      "metadata": {
        "id": "7GvuznzISB-h"
      },
      "source": [
        "import numpy as np\n",
        "import pandas as pd\n",
        "import re\n",
        "\n",
        "import tensorflow as tf\n",
        "import tensorflow_hub as hub\n",
        "import tensorflow_text\n",
        "import umap\n",
        "\n",
        "from sklearn.cluster import KMeans\n",
        "import matplotlib.pyplot as plt\n",
        "\n",
        "from sklearn.cluster import AgglomerativeClustering\n",
        "from sklearn.neighbors import kneighbors_graph\n",
        "\n",
        "import pythainlp\n",
        "from pythainlp.corpus.common import thai_words\n",
        "from pythainlp.util import Trie\n",
        "import collections\n"
      ],
      "execution_count": 4,
      "outputs": []
    },
    {
      "cell_type": "code",
      "metadata": {
        "id": "fUq1dSYcS5yM"
      },
      "source": [
        "module_url = 'https://tfhub.dev/google/universal-sentence-encoder-multilingual/3' #'https://tfhub.dev/google/universal-sentence-encoder-multilingual/3' for a large model\n",
        "\n",
        "model = hub.load(module_url)"
      ],
      "execution_count": 14,
      "outputs": []
    },
    {
      "cell_type": "code",
      "metadata": {
        "id": "dZiaG3R4b6kN"
      },
      "source": [
        "df = pd.read_csv(\"Wongnai Reviews - Small.csv\")"
      ],
      "execution_count": 16,
      "outputs": []
    },
    {
      "cell_type": "code",
      "metadata": {
        "colab": {
          "base_uri": "https://localhost:8080/",
          "height": 203
        },
        "id": "gonSv6i4cVs1",
        "outputId": "d556abea-6b5d-40a8-b433-60ffc6a41ad5"
      },
      "source": [
        "df.head()"
      ],
      "execution_count": 18,
      "outputs": [
        {
          "output_type": "execute_result",
          "data": {
            "text/html": [
              "<div>\n",
              "<style scoped>\n",
              "    .dataframe tbody tr th:only-of-type {\n",
              "        vertical-align: middle;\n",
              "    }\n",
              "\n",
              "    .dataframe tbody tr th {\n",
              "        vertical-align: top;\n",
              "    }\n",
              "\n",
              "    .dataframe thead th {\n",
              "        text-align: right;\n",
              "    }\n",
              "</style>\n",
              "<table border=\"1\" class=\"dataframe\">\n",
              "  <thead>\n",
              "    <tr style=\"text-align: right;\">\n",
              "      <th></th>\n",
              "      <th>Review ID</th>\n",
              "      <th>Review</th>\n",
              "    </tr>\n",
              "  </thead>\n",
              "  <tbody>\n",
              "    <tr>\n",
              "      <th>0</th>\n",
              "      <td>1</td>\n",
              "      <td>เป็นคนที่ชอบทาน Macchiato เป็นประจำ มีวันนึงเด...</td>\n",
              "    </tr>\n",
              "    <tr>\n",
              "      <th>1</th>\n",
              "      <td>2</td>\n",
              "      <td>Art of Coffee Kasetsart เป็นร้านกาแฟรสชาติเยี่...</td>\n",
              "    </tr>\n",
              "    <tr>\n",
              "      <th>2</th>\n",
              "      <td>3</td>\n",
              "      <td>กวงทะเลเผา อาหารทะเลเค้าสดจริงๆเนื้อปูหวานไม่ค...</td>\n",
              "    </tr>\n",
              "    <tr>\n",
              "      <th>3</th>\n",
              "      <td>4</td>\n",
              "      <td>วันนี้มีโอกาสตื่นเช้าครับเลยถึงโอกาสออกมาหาอะไ...</td>\n",
              "    </tr>\n",
              "    <tr>\n",
              "      <th>4</th>\n",
              "      <td>5</td>\n",
              "      <td>ชอบมาทานร้านนี้ถ้าอยากกินอาหารเวียดนามใกล้บ้าน...</td>\n",
              "    </tr>\n",
              "  </tbody>\n",
              "</table>\n",
              "</div>"
            ],
            "text/plain": [
              "   Review ID                                             Review\n",
              "0          1  เป็นคนที่ชอบทาน Macchiato เป็นประจำ มีวันนึงเด...\n",
              "1          2  Art of Coffee Kasetsart เป็นร้านกาแฟรสชาติเยี่...\n",
              "2          3  กวงทะเลเผา อาหารทะเลเค้าสดจริงๆเนื้อปูหวานไม่ค...\n",
              "3          4  วันนี้มีโอกาสตื่นเช้าครับเลยถึงโอกาสออกมาหาอะไ...\n",
              "4          5  ชอบมาทานร้านนี้ถ้าอยากกินอาหารเวียดนามใกล้บ้าน..."
            ]
          },
          "metadata": {},
          "execution_count": 18
        }
      ]
    },
    {
      "cell_type": "markdown",
      "metadata": {
        "id": "Oowl7VYeP3gK"
      },
      "source": [
        "**Step 1 - document embedding and dimension reduction**"
      ]
    },
    {
      "cell_type": "code",
      "metadata": {
        "colab": {
          "base_uri": "https://localhost:8080/"
        },
        "id": "e29WZmM4cCOS",
        "outputId": "819a6aec-8989-42af-bbff-bee172bc1d34"
      },
      "source": [
        "#embed sentences using Universal Sentence Encoder (USE)\n",
        "\n",
        "embed_comments_array = model(df['Review'].values).numpy()\n",
        "embed_comments_array"
      ],
      "execution_count": 19,
      "outputs": [
        {
          "output_type": "execute_result",
          "data": {
            "text/plain": [
              "array([[ 0.08993827,  0.01941084,  0.03787038, ..., -0.03488849,\n",
              "         0.06299512,  0.04635989],\n",
              "       [ 0.00634244,  0.00814594,  0.03071941, ..., -0.01478723,\n",
              "        -0.03080936, -0.03316405],\n",
              "       [ 0.0633687 , -0.02027139, -0.05077003, ..., -0.06530775,\n",
              "        -0.00952999, -0.03439987],\n",
              "       ...,\n",
              "       [ 0.08775924,  0.03609736,  0.01263062, ..., -0.03102781,\n",
              "        -0.03361677,  0.01928871],\n",
              "       [ 0.05691195,  0.05381691, -0.0399575 , ..., -0.06598807,\n",
              "        -0.05390478, -0.01037725],\n",
              "       [ 0.0777048 ,  0.05080631,  0.02680681, ..., -0.0061413 ,\n",
              "        -0.01313567,  0.02236264]], dtype=float32)"
            ]
          },
          "metadata": {},
          "execution_count": 19
        }
      ]
    },
    {
      "cell_type": "code",
      "metadata": {
        "colab": {
          "base_uri": "https://localhost:8080/"
        },
        "id": "5gps1fE8ctMQ",
        "outputId": "afc167d9-df48-4d04-d9f9-3f1f9449fcde"
      },
      "source": [
        "#reduce array dimensions using umap (you can chagne n_components)\n",
        "\n",
        "reducer = umap.UMAP(random_state=42,n_components=50)\n",
        "umap_embed_comments_array = reducer.fit_transform(embed_comments_array)"
      ],
      "execution_count": 20,
      "outputs": [
        {
          "output_type": "stream",
          "name": "stderr",
          "text": [
            "/usr/local/lib/python3.7/dist-packages/numba/np/ufunc/parallel.py:363: NumbaWarning: The TBB threading layer requires TBB version 2019.5 or later i.e., TBB_INTERFACE_VERSION >= 11005. Found TBB_INTERFACE_VERSION = 9107. The TBB threading layer is disabled.\n",
            "  warnings.warn(problem)\n"
          ]
        }
      ]
    },
    {
      "cell_type": "markdown",
      "metadata": {
        "id": "s5qq2RQlQJbV"
      },
      "source": [
        "**Step 2 - document clustering using KMeans**"
      ]
    },
    {
      "cell_type": "code",
      "metadata": {
        "colab": {
          "base_uri": "https://localhost:8080/",
          "height": 312
        },
        "id": "2IkMb1UIF3k5",
        "outputId": "d55e40a5-d0b7-4ae6-8fe7-36e732725e12"
      },
      "source": [
        "#run kmeans with various number of k. evaluate no. of k based on the elbow plot\n",
        "\n",
        "wcss=[]\n",
        "max_k = 10\n",
        "for i in range(1, max_k):\n",
        "  kmeans = KMeans(i)\n",
        "  kmeans.fit(umap_embed_comments_array)\n",
        "  wcss_iter = kmeans.inertia_\n",
        "  wcss.append(wcss_iter)\n",
        "\n",
        "number_clusters = range(1, max_k)\n",
        "plt.plot(number_clusters,wcss)\n",
        "plt.title('The Elbow title')\n",
        "plt.xlabel('Number of clusters')\n",
        "plt.ylabel('WCSS')"
      ],
      "execution_count": 74,
      "outputs": [
        {
          "output_type": "execute_result",
          "data": {
            "text/plain": [
              "Text(0, 0.5, 'WCSS')"
            ]
          },
          "metadata": {},
          "execution_count": 74
        },
        {
          "output_type": "display_data",
          "data": {
            "image/png": "[encoded data removed]",
            "text/plain": [
              "<Figure size 432x288 with 1 Axes>"
            ]
          },
          "metadata": {
            "needs_background": "light"
          }
        }
      ]
    },
    {
      "cell_type": "code",
      "metadata": {
        "id": "1o0czkMVdSJ5"
      },
      "source": [
        "#run kmeans with no. of clusters you see fit the most\n",
        "\n",
        "k = 6\n",
        "\n",
        "kmeans = KMeans(n_clusters = k)\n",
        "kmeans.fit(umap_embed_comments_array)\n",
        "\n",
        "df['KMeans ID'] = kmeans.labels_"
      ],
      "execution_count": 110,
      "outputs": []
    },
    {
      "cell_type": "code",
      "metadata": {
        "id": "bf3R2QBr3oOq"
      },
      "source": [
        "#merge all reviews of each cluster into one big sentence \n",
        "\n",
        "df_kmeans = pd.DataFrame(columns=[\"KMeans ID\", \"texts\"])\n",
        "\n",
        "\n",
        "for i in range(0, k):\n",
        "  row = []\n",
        "  row.append(i)\n",
        "  row.append(df['Review'][df['KMeans ID'] == i].to_string())\n",
        "  df_kmeans.loc[len(df_kmeans)] = row"
      ],
      "execution_count": 111,
      "outputs": []
    },
    {
      "cell_type": "code",
      "metadata": {
        "colab": {
          "base_uri": "https://localhost:8080/",
          "height": 234
        },
        "id": "UFo_nqQEL08U",
        "outputId": "fd8eb09b-b6ac-4de7-f037-7fd57c3bcddf"
      },
      "source": [
        "df_kmeans"
      ],
      "execution_count": 112,
      "outputs": [
        {
          "output_type": "execute_result",
          "data": {
            "text/html": [
              "<div>\n",
              "<style scoped>\n",
              "    .dataframe tbody tr th:only-of-type {\n",
              "        vertical-align: middle;\n",
              "    }\n",
              "\n",
              "    .dataframe tbody tr th {\n",
              "        vertical-align: top;\n",
              "    }\n",
              "\n",
              "    .dataframe thead th {\n",
              "        text-align: right;\n",
              "    }\n",
              "</style>\n",
              "<table border=\"1\" class=\"dataframe\">\n",
              "  <thead>\n",
              "    <tr style=\"text-align: right;\">\n",
              "      <th></th>\n",
              "      <th>KMeans ID</th>\n",
              "      <th>texts</th>\n",
              "    </tr>\n",
              "  </thead>\n",
              "  <tbody>\n",
              "    <tr>\n",
              "      <th>0</th>\n",
              "      <td>0</td>\n",
              "      <td>3      วันนี้มีโอกาสตื่นเช้าครับเลยถึงโอกาสออก...</td>\n",
              "    </tr>\n",
              "    <tr>\n",
              "      <th>1</th>\n",
              "      <td>1</td>\n",
              "      <td>0      เป็นคนที่ชอบทาน Macchiato เป็นประจำ มีว...</td>\n",
              "    </tr>\n",
              "    <tr>\n",
              "      <th>2</th>\n",
              "      <td>2</td>\n",
              "      <td>11     โลตัสพัฒนาการมีร้านชีทเค้กน่าหม่ำอยู่ร้...</td>\n",
              "    </tr>\n",
              "    <tr>\n",
              "      <th>3</th>\n",
              "      <td>3</td>\n",
              "      <td>2      กวงทะเลเผา อาหารทะเลเค้าสดจริงๆเนื้อปูห...</td>\n",
              "    </tr>\n",
              "    <tr>\n",
              "      <th>4</th>\n",
              "      <td>4</td>\n",
              "      <td>5      เป็นร้านที่สะดุดตาที่สุดบนถนนจรัญ เลยก็...</td>\n",
              "    </tr>\n",
              "    <tr>\n",
              "      <th>5</th>\n",
              "      <td>5</td>\n",
              "      <td>13     เคยเป็นไหมกันไหมคะ หลังอาหารมื้อใหญ่ ต่...</td>\n",
              "    </tr>\n",
              "  </tbody>\n",
              "</table>\n",
              "</div>"
            ],
            "text/plain": [
              "  KMeans ID                                              texts\n",
              "0         0  3      วันนี้มีโอกาสตื่นเช้าครับเลยถึงโอกาสออก...\n",
              "1         1  0      เป็นคนที่ชอบทาน Macchiato เป็นประจำ มีว...\n",
              "2         2  11     โลตัสพัฒนาการมีร้านชีทเค้กน่าหม่ำอยู่ร้...\n",
              "3         3  2      กวงทะเลเผา อาหารทะเลเค้าสดจริงๆเนื้อปูห...\n",
              "4         4  5      เป็นร้านที่สะดุดตาที่สุดบนถนนจรัญ เลยก็...\n",
              "5         5  13     เคยเป็นไหมกันไหมคะ หลังอาหารมื้อใหญ่ ต่..."
            ]
          },
          "metadata": {},
          "execution_count": 112
        }
      ]
    },
    {
      "cell_type": "code",
      "metadata": {
        "id": "JydvwIz5NcaI"
      },
      "source": [
        "#create regex compiler for removal of a character you don't want\n",
        "\n",
        "special_characters = \"/[!@#$%^&*']/g\"\n",
        "\n",
        "specialchar_pattern = re.compile(special_characters)"
      ],
      "execution_count": 113,
      "outputs": []
    },
    {
      "cell_type": "code",
      "metadata": {
        "id": "R8ymEA_2EhGi"
      },
      "source": [
        "#create regex compiler for removal of any emoji\n",
        "\n",
        "emoji_pattern = re.compile(\"[\"\n",
        "        u\"\\U0001F600-\\U0001F64F\"  # emoticons\n",
        "        u\"\\U0001F300-\\U0001F5FF\"  # symbols & pictographs\n",
        "        u\"\\U0001F680-\\U0001F6FF\"  # transport & map symbols\n",
        "        u\"\\U0001F1E0-\\U0001F1FF\"  # flags (iOS)\n",
        "                           \"]+\", flags=re.UNICODE)"
      ],
      "execution_count": 114,
      "outputs": []
    },
    {
      "cell_type": "code",
      "metadata": {
        "id": "9Q93YKJZK5ak"
      },
      "source": [
        "#create regex compiler for removal of digit\n",
        "\n",
        "number_pattern = re.compile(\"[0-9]\")"
      ],
      "execution_count": 116,
      "outputs": []
    },
    {
      "cell_type": "code",
      "metadata": {
        "id": "sHZ0HKlXNeSi"
      },
      "source": [
        "#create regex compiler for removal of white space\n",
        "\n",
        "space_pattern = re.compile(\"\\s+\")"
      ],
      "execution_count": 117,
      "outputs": []
    },
    {
      "cell_type": "code",
      "metadata": {
        "id": "-orHzqLkNupd"
      },
      "source": [
        "#create regex compiler for removal of .\n",
        "\n",
        "dot_pattern = re.compile(r\"\\.+\")"
      ],
      "execution_count": 118,
      "outputs": []
    },
    {
      "cell_type": "code",
      "metadata": {
        "id": "v7bW9th9N7oG"
      },
      "source": [
        "#create regex compiler for removal of \\\n",
        "\n",
        "backslash_pattern = re.compile(r\"\\\\+\")"
      ],
      "execution_count": 119,
      "outputs": []
    },
    {
      "cell_type": "code",
      "metadata": {
        "id": "ZGVvQhZz4tGs"
      },
      "source": [
        "#define a function to tokenize a sentence into words - you can define words you want to remove as well as new words for tokenization\n",
        "\n",
        "stopwords = list(pythainlp.corpus.thai_stopwords())\n",
        "removed_words = ['u', 'b', 'n', 'nn', 'nn-', '\\n', 'ร้าน', 'ที่', 'อัน', 'นี้', 'นะ', 'คะ', 'ค่ะ', 'ดิชั้น', 'ซอย', 'ม๊าก', 'กิ่วๆ', 'นิวคุง', 'ดิส์ส์ส์','tamp', 'ดิ', 'ชั้น']\n",
        "screening_words = stopwords + removed_words\n",
        "\n",
        "new_words = {\"สตารบัก\", \"บูลเบอร์รี่โซดา\", \"สตอเบอร์รี่โซดา\", \"กีวีโซดา\", \"บูลฮาวาย\", \"เค้กนมสด\", \"เค้กชาไทย\", \"เค้กนมเย็น\", \" ชิบูยะ ฮันนี่ โทสท์\", \"ไอติมวนิลา\", \"ยำทิวทัศน์\", \"ชาเสาวรส\", \"ชาเขียว\", \"อาหารไทย\", \"อาหารอีสาน\"}\n",
        "\n",
        "words = new_words.union(thai_words())\n",
        "\n",
        "custom_dictionary_trie = Trie(words)\n",
        "\n",
        "def tokenize_to_list(sentence):\n",
        "  merged = []\n",
        "  words = pythainlp.word_tokenize(str(sentence), engine='newmm', custom_dict=custom_dictionary_trie)\n",
        "  for word in words:\n",
        "    if word not in screening_words:\n",
        "      merged.append(word)\n",
        "  return merged"
      ],
      "execution_count": 141,
      "outputs": []
    },
    {
      "cell_type": "code",
      "metadata": {
        "id": "MnN1ekEoL9ug"
      },
      "source": [
        "#clean and tokenize sentences. count the occurences of each word\n",
        "\n",
        "df_kmeans['texts'] = df_kmeans['texts'].apply(lambda x: emoji_pattern.sub(r'', x))\n",
        "df_kmeans['texts'] = df_kmeans['texts'].apply(lambda x: specialchar_pattern.sub(r'', x))\n",
        "df_kmeans['texts'] = df_kmeans['texts'].apply(lambda x: number_pattern.sub(r'', x))\n",
        "df_kmeans['texts'] = df_kmeans['texts'].apply(lambda x: space_pattern.sub(r'', x))\n",
        "df_kmeans['texts'] = df_kmeans['texts'].apply(lambda x: dot_pattern.sub(r'', x))\n",
        "df_kmeans['texts'] = df_kmeans['texts'].apply(lambda x: backslash_pattern.sub(r'', x))\n",
        "df_kmeans['texts_tokenized'] = df_kmeans['texts'].apply(lambda x: tokenize_to_list(x))\n",
        "df_kmeans['texts_count'] = df_kmeans['texts_tokenized'].apply(lambda x: collections.Counter(x).most_common())"
      ],
      "execution_count": 142,
      "outputs": []
    },
    {
      "cell_type": "code",
      "metadata": {
        "colab": {
          "base_uri": "https://localhost:8080/",
          "height": 234
        },
        "id": "G0jG1yO889B2",
        "outputId": "6894ed46-25af-4c28-971a-28d7b94bb09e"
      },
      "source": [
        "#results of tokenization\n",
        "\n",
        "df_kmeans"
      ],
      "execution_count": 143,
      "outputs": [
        {
          "output_type": "execute_result",
          "data": {
            "text/html": [
              "<div>\n",
              "<style scoped>\n",
              "    .dataframe tbody tr th:only-of-type {\n",
              "        vertical-align: middle;\n",
              "    }\n",
              "\n",
              "    .dataframe tbody tr th {\n",
              "        vertical-align: top;\n",
              "    }\n",
              "\n",
              "    .dataframe thead th {\n",
              "        text-align: right;\n",
              "    }\n",
              "</style>\n",
              "<table border=\"1\" class=\"dataframe\">\n",
              "  <thead>\n",
              "    <tr style=\"text-align: right;\">\n",
              "      <th></th>\n",
              "      <th>KMeans ID</th>\n",
              "      <th>texts</th>\n",
              "      <th>texts_tokenized</th>\n",
              "      <th>texts_count</th>\n",
              "    </tr>\n",
              "  </thead>\n",
              "  <tbody>\n",
              "    <tr>\n",
              "      <th>0</th>\n",
              "      <td>0</td>\n",
              "      <td>วันนี้มีโอกาสตื่นเช้าครับเลยถึงโอกาสออกมาหาอะไ...</td>\n",
              "      <td>[มีโอกาส, ตื่น, เช้า, โอกาส, มาหา, อะ, ไช, อบ,...</td>\n",
              "      <td>[(กิน, 8), (ผม, 5), (ร้านอาหาร, 5), (ทาน, 4), ...</td>\n",
              "    </tr>\n",
              "    <tr>\n",
              "      <th>1</th>\n",
              "      <td>1</td>\n",
              "      <td>เป็นคนที่ชอบทานMacchiatoเป็นประจำมีวันนึงเดArt...</td>\n",
              "      <td>[คน, ชอบ, ทาน, Macchiato, เป็นประจำ, นึง, เด, ...</td>\n",
              "      <td>[(ร้านกาแฟ, 13), (กาแฟ, 11), (ทาน, 6), (น, 4),...</td>\n",
              "    </tr>\n",
              "    <tr>\n",
              "      <th>2</th>\n",
              "      <td>2</td>\n",
              "      <td>โลตัสพัฒนาการมีร้านชีทเค้กน่าหม่ำอยู่ร้านนึงค่...</td>\n",
              "      <td>[โลตัส, พัฒนาการ, ชี, ท, เค้ก, หม่ำ, นึง, ค่, ...</td>\n",
              "      <td>[(ร้านกาแฟ, 10), (กาแฟ, 6), (เบเกอรี่, 4), (พา...</td>\n",
              "    </tr>\n",
              "    <tr>\n",
              "      <th>3</th>\n",
              "      <td>3</td>\n",
              "      <td>กวงทะเลเผาอาหารทะเลเค้าสดจริงๆเนื้อปูหวานไม่คส...</td>\n",
              "      <td>[กวง, ทะเล, เผา, อาหารทะเล, เค้า, สด, เนื้อ, ป...</td>\n",
              "      <td>[(ร้านอาหาร, 8), (กก, 7), (อร่อย, 6), (ทาน, 5)...</td>\n",
              "    </tr>\n",
              "    <tr>\n",
              "      <th>4</th>\n",
              "      <td>4</td>\n",
              "      <td>เป็นร้านที่สะดุดตาที่สุดบนถนนจรัญเลยก็ว่าได้สถ...</td>\n",
              "      <td>[สะดุดตา, ถนน, จรัญ, สถาน, ที่ตั้ง, ปากซอย, สุ...</td>\n",
              "      <td>[(ทาน, 7), (กิน, 6), (ร้านกาแฟ, 5), (ชอบ, 5), ...</td>\n",
              "    </tr>\n",
              "    <tr>\n",
              "      <th>5</th>\n",
              "      <td>5</td>\n",
              "      <td>เคยเป็นไหมกันไหมคะหลังอาหารมื้อใหญ่ต่อให้อิ่เช...</td>\n",
              "      <td>[ไหม, ไหม, หลังอาหาร, มื้อ, ต่อให้, อิ่, เช้า,...</td>\n",
              "      <td>[(ชา, 18), (นม, 14), (ไข่มุก, 14), (ทาน, 5), (...</td>\n",
              "    </tr>\n",
              "  </tbody>\n",
              "</table>\n",
              "</div>"
            ],
            "text/plain": [
              "  KMeans ID  ...                                        texts_count\n",
              "0         0  ...  [(กิน, 8), (ผม, 5), (ร้านอาหาร, 5), (ทาน, 4), ...\n",
              "1         1  ...  [(ร้านกาแฟ, 13), (กาแฟ, 11), (ทาน, 6), (น, 4),...\n",
              "2         2  ...  [(ร้านกาแฟ, 10), (กาแฟ, 6), (เบเกอรี่, 4), (พา...\n",
              "3         3  ...  [(ร้านอาหาร, 8), (กก, 7), (อร่อย, 6), (ทาน, 5)...\n",
              "4         4  ...  [(ทาน, 7), (กิน, 6), (ร้านกาแฟ, 5), (ชอบ, 5), ...\n",
              "5         5  ...  [(ชา, 18), (นม, 14), (ไข่มุก, 14), (ทาน, 5), (...\n",
              "\n",
              "[6 rows x 4 columns]"
            ]
          },
          "metadata": {},
          "execution_count": 143
        }
      ]
    },
    {
      "cell_type": "code",
      "metadata": {
        "colab": {
          "base_uri": "https://localhost:8080/",
          "height": 350
        },
        "id": "j5OT3Ur8QoWw",
        "outputId": "5a3bc84d-6648-4907-e566-d79c242ed691"
      },
      "source": [
        "df_kmeans['texts_count'].value_counts()"
      ],
      "execution_count": 144,
      "outputs": [
        {
          "output_type": "error",
          "ename": "TypeError",
          "evalue": "ignored",
          "traceback": [
            "\u001b[0;31m---------------------------------------------------------------------------\u001b[0m",
            "\u001b[0;31mTypeError\u001b[0m                                 Traceback (most recent call last)",
            "\u001b[0;32mpandas/_libs/hashtable_class_helper.pxi\u001b[0m in \u001b[0;36mpandas._libs.hashtable.PyObjectHashTable.map_locations\u001b[0;34m()\u001b[0m\n",
            "\u001b[0;31mTypeError\u001b[0m: unhashable type: 'list'"
          ]
        },
        {
          "output_type": "stream",
          "name": "stderr",
          "text": [
            "Exception ignored in: 'pandas._libs.index.IndexEngine._call_map_locations'\n",
            "Traceback (most recent call last):\n",
            "  File \"pandas/_libs/hashtable_class_helper.pxi\", line 1709, in pandas._libs.hashtable.PyObjectHashTable.map_locations\n",
            "TypeError: unhashable type: 'list'\n"
          ]
        },
        {
          "output_type": "execute_result",
          "data": {
            "text/plain": [
              "[(ร้านกาแฟ, 10), (กาแฟ, 6), (เบเกอรี่, 4), (พาย, 4), (เค้ก, 3), (คาเฟ่, 3), (แนว, 3), (ชอบ, 3), (ท, 2), (ทาน, 2), (กา, 2), (จ, 2), (ริ, 2), (น่ารัก, 2), (กิน, 2), (ชิล, 2), (เจอ, 2), (บรรยากาศ, 2), (คลาสสิค, 2), (เด่น, 2), (ตกแต่ง, 2), (ร่ำ, 2), (ตั้งอยู่, 2), (รี่, 2), (โลตัส, 1), (พัฒนาการ, 1), (ชี, 1), (หม่ำ, 1), (นึง, 1), (ค่, 1), (โฮมเมด, 1), (อร่อย, 1), (ส, 1), (ไส, 1), (ต์, 1), (-cake, 1), (แอนด์, 1), (บุฟเฟต์, 1), (เสาร์, 1), (อา, 1), (ทิต, 1), (เข้าไป, 1), (บรรยาย, 1), (ศ, 1), (แาน, 1), (สา, 1), (ขาย, 1), (Aprilstore, 1), (บริเวณ, 1), (สวน, 1), (ยู, 1), (เซ็นเตอร์, 1), (หลากหลาย, 1), (รสชาติ, 1), (อากาศ, 1), (ร้อน, 1), (ไปหา, 1), (นั่งเล่น, 1), (รู้จัก, 1), (อ้อ, 1), (พอได้, 1), (ถึงบางอ้อ, 1), (กัร้าน, 1), (สีชมพู, 1), (หวาน, 1), (แหวว, 1), (สะดุดตา, 1), (สยามพารากอน, 1), (ArtofCoffee, 1), (ถูกใจ, 1), (คน, 1), (เครป, 1), (พัน, 1), (!, 1), (ไปมา, 1), (รีวิว, 1), (จัร้าน, 1), (อาหาร, 1), (นั่ง, 1), (อี, 1), (กร้าน, 1), (ตัร้าน, 1), (แผน, 1), (ร, 1), (สิงห์, 1), (วัง, 1), (พญาไท, 1), (แวะ, 1), (อ, 1), (เม, 1), (ซอน, 1), (ปั้มปตท, 1), (เกื้อ, 1), (สกุล, 1), (จิบ, 1), (กระ, 1), (หา, 1), (ชุด, 1), (โต๊ะ, 1), (เก้าอี้, 1), ...]                                              1\n",
              "[(ร้านกาแฟ, 13), (กาแฟ, 11), (ทาน, 6), (น, 4), (นั่ง, 4), (ดี, 4), (คน, 3), (ชอบ, 3), (นึง, 3), (เด, 3), (:, 3), (อ, 3), (วัง, 3), (กร้าน, 3), (รอ, 3), (พัก, 3), (นอ, 3), (ร้า, 3), (สวัสดี, 3), (อย, 3), (เม, 3), (ซอน, 3), (น่ารัก, 3), (กิน, 3), (รสชาติ, 2), (เดือน, 2), (ห, 2), (อี, 2), (รถ, 2), (ประ, 2), (เหมือน, 2), (มาจาก, 2), (ผม, 2), (เดินผ่าน, 2), (เจอ, 2), (จิบ, 2), (สาขา, 2), (เล, 2), (แวะ, 2), (บรรยากาศ, 2), (ร, 2), (ที่มา, 2), (สะอาด, 2), (โต๊ะ, 2), (ป, 2), (นึก, 2), (โซน, 2), (แถว, 2), (ตั้งอยู่, 2), (รีวิว, 2), (ตระเวน, 2), (ทรู, 2), (Macchiato, 1), (เป็นประจำ, 1), (ArtofCoffeeKasetsart, 1), (เย, 1), (ี่, 1), (Starbucksn, 1), (Starbucks, 1), (นี, 1), (เบอ, 1), (เก, 1), (รี่, 1), (ล้างรถ, 1), (ชื่อว่า, 1), (นรสิงห์, 1), (พญาไท, 1), (ได้ยิน, 1), (ชื่อ, 1), (กา, 1), (ลองดู, 1), (ติดใจ, 1), (ลอง, 1), (ท, 1), (ช๊อป, 1), (ปิ้ง, 1), (ห้าง, 1), (ล้าง, 1), (โปร, 1), (คลี, 1), (ว, 1), (ย้าย, 1), (อิม, 1), (เพรส, 1), (ป่าว, 1), (มั่น, 1), (นัด, 1), (รุ่นน้อง, 1), (เลี้ยง, 1), (ส่วนตัว, 1), (ยี่ห้อ, 1), (อยุ่, 1), (กลิ่น, 1), (น่าจะเป็น, 1), (CatCafe, 1), (ประเทศ, 1), (ไทย, 1), (ลอยกระทง, 1), (ดื่ม, 1), (สัมอง, 1), ...]                                                          1\n",
              "[(กิน, 8), (ผม, 5), (ร้านอาหาร, 5), (ทาน, 4), (ส้มตำ, 4), (อร่อย, 4), (รีวิว, 4), (บ้าน, 3), (ถนน, 3), (เมนู, 3), (บอ, 3), (ดี, 3), (สาขา, 3), (ดีล, 3), (เพื่อน, 3), (กก, 3), (มีโอกาส, 2), (อาหาร, 2), (ตลาด, 2), (ชื่อดัง, 2), (ข้าวห่อ, 2), (ไข่, 2), (เมือง, 2), (พัทยา, 2), (ทะเล, 2), (นะคะ, 2), (เลือก, 2), (สำหรับ, 2), (อย่า, 2), (ชื่อ, 2), (เวลา, 2), (คน, 2), (เด็ด, 2), (ขา, 2), (ครั้งแรก, 2), (ลอง, 2), (ปีใหม่, 2), (ก, 2), (ก๋วยเตี๋ยว, 2), (สั่ง, 2), (วัส, 2), (ชิม, 2), (นึกถึง, 2), (อี, 2), (กร้าน, 2), (ตื่น, 1), (เช้า, 1), (โอกาส, 1), (มาหา, 1), (อะ, 1), (ไช, 1), (อบ, 1), (เวียดนาม, 1), (เจ๊, 1), (พิม, 1), (เลี่ยง, 1), (หนอง, 1), (มน, 1), (ร้, 1), (ดารา, 1), (ตลก, 1), (หม่ำ, 1), (รัก, 1), (จาน, 1), (จุใจ, 1), (เก, 1), (มาถึง, 1), (ชล, 1), (อีกครั้ง, 1), (ค่า, 1), (จา, 1), (มอเตอร์, 1), (เว, 1), (นั่ง, 1), (แทบจะ, 1), (ติด, 1), (อารมณ์, 1), (ชา, 1), (คนเดียว, 1), (เดิน, 1), (อ้, 1), (ลบ, 1), (ดาว, 1), (ดวง, 1), (เค, 1), (ยม, 1), (กราบ, 1), (ขออภัย, 1), (คำพูด, 1), (มีความรู้สึก, 1), (หนี, 1), (คิว, 1), (ยาวเหยียด, 1), (ดัอุดร, 1), (ขาย, 1), (อาหารเช้า, 1), (พักเที่ยง, 1), (ที่ไหนๆ, 1), (สวย, 1), (เล, 1), ...]                                                                 1\n",
              "[(ร้านอาหาร, 8), (กก, 7), (อร่อย, 6), (ทาน, 5), (ราคา, 4), (แซ่บ, 4), (กิน, 4), (อาหาร, 4), (รสชาติ, 4), (สวัสดี, 3), (รีวิว, 3), (ส, 3), (ยำ, 3), (รา, 3), (เก่าแก่, 3), (รอบ, 3), (เป็ด, 3), (กาแฟ, 3), (เนื้อ, 2), (เพื่อน, 2), (หัว, 2), (หิน, 2), (ไร้, 2), (าน, 2), (สไตล์, 2), (บ้าน, 2), (ข, 2), (น, 2), (อาหารไทย, 2), (แพง, 2), (สา, 2), (คน, 2), (อาศัย, 2), (สุขุมวิท, 2), (แคนยอน, 2), (สาขา, 2), (ขาย, 2), (เมนู, 2), (ขับรถ, 2), (เข้ามา, 2), (ห, 2), (หลากหลาย, 2), (ส้มตำ, 2), (เผ็ด, 2), (ท, 2), (รส, 2), (ตั้งอยู่, 2), (ไก่, 2), (ข้าม, 2), (เวลา, 2), (พูดถึง, 2), (ร้า, 2), (เซ็นทรัล, 2), (พระราม, 2), (กวง, 1), (ทะเล, 1), (เผา, 1), (อาหารทะเล, 1), (เค้า, 1), (สด, 1), (ปู, 1), (หวาน, 1), (ค, 1), (สมาชิก, 1), (Wongna, 1), (ตอนเย็น, 1), (รถไฟฟ้า, 1), (ราช, 1), (เทวี, 1), (เดิน, 1), (ย้อแมทช์, 1), (ตกลง, 1), (กล, 1), (คนแนะนำ, 1), (ลอง, 1), (สักหน่อย, 1), (ตกแต่ง, 1), (น่ารัก, 1), (นั่ง, 1), (เรื่อ, 1), (ปั้นหยา, 1), (ที่จอดรถ, 1), (สะดวก, 1), (ฟิวชั่น, 1), (สะอาด, 1), (นิ, 1), (สาระ, 1), (พัด, 1), (ผัก, 1), (คุ้ม, 1), (ก๋วยเตี๋ยว, 1), (ครองใจ, 1), (ชล, 1), (บุ, 1), (เชฟ, 1), (มด, 1), (ที่สอง, 1), (ถูกใจ, 1), (ริ, 1), (งๆ, 1), ...]                                                    1\n",
              "[(ทาน, 7), (กิน, 6), (ร้านกาแฟ, 5), (ชอบ, 5), (อร่อย, 5), (กาแฟ, 5), (ซื้อ, 4), (หา, 4), (อาหาร, 3), (ผม, 3), (รีวิว, 3), (แวะ, 3), (สะดุดตา, 2), (สถาน, 2), (ที่ตั้ง, 2), (ร้านอาหาร, 2), (เครื่องดื่ม, 2), (เค้า, 2), (บ้าน, 2), (คิว, 2), (รู้จัก, 2), (ปกติ, 2), (แถว, 2), (ลอง, 2), (วิ, 2), (สต้า, 2), (คาเฟ่, 2), (กา, 2), (ศ, 2), (ครั้งแรก, 2), (ๆๆ, 2), (มีโอกาส, 2), (ไอติม, 2), (พูดถึง, 2), (กร้าน, 2), (ขนมปัง, 2), (ของหวาน, 2), (สไตล์, 2), (รี่, 2), (น้ำ, 2), (ปั่น, 2), (พี่ชาย, 2), (จังหวัด, 2), (แตงโม, 2), (ดี, 2), (กก, 2), (ถนน, 1), (จรัญ, 1), (ปากซอย, 1), (สุขุมวิท, 1), (บริเวณ, 1), (ซ, 1), (ทองม้วน, 1), (สด, 1), (แบ, 1), (บอ, 1), (ร่, 1), (ราคา, 1), (เป็นกันเอง, 1), (ๆขอ, 1), (เหอะ, 1), (แหม, 1), (ข, 1), (นา, 1), (คิดถึง, 1), (เรียนพิเศษ, 1), (ดาว, 1), (องก์, 1), (เยา, 1), (วร, 1), (เดือน, 1), (-, 1), (ชั่วโมง, 1), (ว่, 1), (หันไป, 1), (หันมา, 1), (แตะ, 1), (ขอบฟ้า, 1), (เดินผ่าน, 1), (หลายครั้ง, 1), (สังเกตว่า, 1), (ร้า, 1), (stb, 1), (บร, 1), (ปัง, 1), (ภูเขาไฟ, 1), (อ่, 1), (ร้อน, 1), (เข้ากัน, 1), (ฝุดๆ, 1), (หวาน, 1), (ๆอร่, 1), (ตัดสินใจ, 1), (น้อผม, 1), (เดิน, 1), (ลาน, 1), (จ, 1), (โดยส่วนตัว, 1), (Icecaramelmacchiato, 1), (เพรา, 1), ...]                         1\n",
              "[(ชา, 18), (นม, 14), (ไข่มุก, 14), (ทาน, 5), (เครื่องดื่ม, 4), (ตั้งอยู่, 3), (ลอง, 3), (เดิน, 3), (ไต้หวัน, 3), (ไหม, 2), (แวะ, 2), (เติม, 2), (นขา, 2), (ชาเขียว, 2), (นิว, 2), (คุง, 2), (เจอ, 2), (ขาย, 2), (Ochaya, 2), (สยาม, 2), (รีวิว, 2), (คน, 2), (Dakasi, 2), (ร้า, 2), (ทำ, 2), (หลาน, 2), (ติด, 2), (สา, 2), (หลังอาหาร, 1), (มื้อ, 1), (ต่อให้, 1), (อิ่, 1), (เช้า, 1), (บ่าย, 1), (เย็น, 1), (อาหารว่าง, 1), (คนเรา, 1), (หยิบ, 1), (จัระ, 1), (หว่าง, 1), (มุ่งหน้า, 1), (ชัยภูมิ, 1), (พลัง, 1), (กันที่, 1), (ขนาด, 1), (กระทัดรัด, 1), (พื้นที่, 1), (เร้า, 1), (ย, 1), (ผลิตภัณฑ์, 1), (ไอ, 1), (ศรี, 1), (ม, 1), (เข, 1), (ี, 1), (อ้วน, 1), (กิน, 1), (โซน, 1), (ซุ้ม, 1), (ขายของ, 1), (ตรงกลาง, 1), (นะคะ, 1), (ห้าง, 1), (Big-C, 1), (ราช, 1), (ดำริ, 1), (น้ำ, 1), (ท, 1), (สาขา, 1), (ตึก, 1), (ออฟ, 1), (ฟ, 1), (Aprilstore, 1), (ร้านกาแฟ, 1), (ขนาดเล็ก, 1), (เดินเที่ยว, 1), (อร่อย, 1), (วันก่อน, 1), (เดินเล่น, 1), (หา, 1), (กินใน, 1), (ย่าน, 1), (หอการค้า, 1), (ได้ฤกษ์, 1), (โปรด, 1), (ชอบ, 1), (ติดใจ, 1), (รส, 1), (ALittleSweet, 1), (ของหวาน, 1), (สไตล์, 1), (dessennnnn, 1), (นว, 1), (โร, 1), (ก๋วยเตี๋ยว, 1), (แนะนำ, 1), (มีชื่อ, 1), (ร้าย, 1), (โปรโมชั่น, 1), (openrice, 1), ...]    1\n",
              "Name: texts_count, dtype: int64"
            ]
          },
          "metadata": {},
          "execution_count": 144
        }
      ]
    },
    {
      "cell_type": "code",
      "metadata": {
        "colab": {
          "base_uri": "https://localhost:8080/"
        },
        "id": "n0LZ5H8_Dqvn",
        "outputId": "769b70ac-305a-4fbe-b2c8-81ecc9404900"
      },
      "source": [
        "#show top keywords of each cluster\n",
        "\n",
        "top_N_words = 10\n",
        "\n",
        "for i in range(0, len(df_kmeans)):\n",
        "  print(f\"Cluster ID : {i}\\n\")\n",
        "  print(f\"Most common words include : {list(df_kmeans['texts_count'][i])[:top_N_words]}\\n\")\n",
        "\n",
        "#tune a model by remove unwanted characters and words and add more words to a custom dictionary"
      ],
      "execution_count": 145,
      "outputs": [
        {
          "output_type": "stream",
          "name": "stdout",
          "text": [
            "Cluster ID : 0\n",
            "\n",
            "Most common words include : [('กิน', 8), ('ผม', 5), ('ร้านอาหาร', 5), ('ทาน', 4), ('ส้มตำ', 4), ('อร่อย', 4), ('รีวิว', 4), ('บ้าน', 3), ('ถนน', 3), ('เมนู', 3)]\n",
            "\n",
            "Cluster ID : 1\n",
            "\n",
            "Most common words include : [('ร้านกาแฟ', 13), ('กาแฟ', 11), ('ทาน', 6), ('น', 4), ('นั่ง', 4), ('ดี', 4), ('คน', 3), ('ชอบ', 3), ('นึง', 3), ('เด', 3)]\n",
            "\n",
            "Cluster ID : 2\n",
            "\n",
            "Most common words include : [('ร้านกาแฟ', 10), ('กาแฟ', 6), ('เบเกอรี่', 4), ('พาย', 4), ('เค้ก', 3), ('คาเฟ่', 3), ('แนว', 3), ('ชอบ', 3), ('ท', 2), ('ทาน', 2)]\n",
            "\n",
            "Cluster ID : 3\n",
            "\n",
            "Most common words include : [('ร้านอาหาร', 8), ('กก', 7), ('อร่อย', 6), ('ทาน', 5), ('ราคา', 4), ('แซ่บ', 4), ('กิน', 4), ('อาหาร', 4), ('รสชาติ', 4), ('สวัสดี', 3)]\n",
            "\n",
            "Cluster ID : 4\n",
            "\n",
            "Most common words include : [('ทาน', 7), ('กิน', 6), ('ร้านกาแฟ', 5), ('ชอบ', 5), ('อร่อย', 5), ('กาแฟ', 5), ('ซื้อ', 4), ('หา', 4), ('อาหาร', 3), ('ผม', 3)]\n",
            "\n",
            "Cluster ID : 5\n",
            "\n",
            "Most common words include : [('ชา', 18), ('นม', 14), ('ไข่มุก', 14), ('ทาน', 5), ('เครื่องดื่ม', 4), ('ตั้งอยู่', 3), ('ลอง', 3), ('เดิน', 3), ('ไต้หวัน', 3), ('ไหม', 2)]\n",
            "\n"
          ]
        }
      ]
    },
    {
      "cell_type": "markdown",
      "metadata": {
        "id": "9Qe8TReCQTOo"
      },
      "source": [
        "**Step 3 - document clustering using Agglomorative Clustering with cosine similarity**"
      ]
    },
    {
      "cell_type": "code",
      "metadata": {
        "id": "VWgW-tCkcPgU"
      },
      "source": [
        "#clustering using agglomorative clustering\n",
        "\n",
        "knn_graph = kneighbors_graph(embed_comments_array, 5, include_self=False)\n",
        "model = AgglomerativeClustering(linkage=\"average\", connectivity=knn_graph, n_clusters=10, affinity=\"cosine\")\n",
        "model.fit(embed_comments_array)\n",
        "df['Agglomerative ID'] = model.labels_"
      ],
      "execution_count": 146,
      "outputs": []
    },
    {
      "cell_type": "code",
      "metadata": {
        "id": "XHfsJyL8dmGC"
      },
      "source": [
        "#merge all reviews of each cluster into one big sentence \n",
        "\n",
        "df_Agglomerative = pd.DataFrame(columns=[\"Agglomerative ID\", \"texts\"])\n",
        "\n",
        "\n",
        "for i in range(0, k):\n",
        "  row = []\n",
        "  row.append(i)\n",
        "  row.append(str(df['Review'][df['Agglomerative ID'] == i].tolist()))\n",
        "  df_Agglomerative.loc[len(df_Agglomerative)] = row"
      ],
      "execution_count": 147,
      "outputs": []
    },
    {
      "cell_type": "code",
      "metadata": {
        "id": "7hsSbTWvdtK2"
      },
      "source": [
        "#clean and tokenize sentences. count the occurences of each word\n",
        "\n",
        "df_Agglomerative['texts'] = df_Agglomerative['texts'].apply(lambda x: emoji_pattern.sub(r'', x))\n",
        "df_Agglomerative['texts'] = df_Agglomerative['texts'].apply(lambda x: specialchar_pattern.sub(r'', x))\n",
        "df_Agglomerative['texts'] = df_Agglomerative['texts'].apply(lambda x: number_pattern.sub(r'', x))\n",
        "df_Agglomerative['texts'] = df_Agglomerative['texts'].apply(lambda x: space_pattern.sub(r'', x))\n",
        "df_Agglomerative['texts'] = df_Agglomerative['texts'].apply(lambda x: dot_pattern.sub(r'', x))\n",
        "df_Agglomerative['texts'] = df_Agglomerative['texts'].apply(lambda x: backslash_pattern.sub(r'', x))\n",
        "df_Agglomerative['texts_tokenized'] = df_Agglomerative['texts'].apply(lambda x: tokenize_to_list(x))\n",
        "df_Agglomerative['texts_count'] = df_Agglomerative['texts_tokenized'].apply(lambda x: collections.Counter(x).most_common())"
      ],
      "execution_count": 148,
      "outputs": []
    },
    {
      "cell_type": "code",
      "metadata": {
        "colab": {
          "base_uri": "https://localhost:8080/"
        },
        "id": "HsRWk5oHd0UH",
        "outputId": "adc1a65c-28f8-4f8b-c351-d19607db56fc"
      },
      "source": [
        "#show top keywords of each cluster\n",
        "\n",
        "top_N_words = 10\n",
        "\n",
        "for i in range(0, len(df_Agglomerative)):\n",
        "  print(f\"Cluster ID : {i}\\n\")\n",
        "  print(f\"Most common words include : {list(df_Agglomerative['texts_count'][i])[:top_N_words]}\\n\")"
      ],
      "execution_count": 149,
      "outputs": [
        {
          "output_type": "stream",
          "name": "stdout",
          "text": [
            "Cluster ID : 0\n",
            "\n",
            "Most common words include : [('อร่อย', 508), ('ทาน', 416), ('รสชาติ', 407), ('ดี', 347), ('กิน', 339), ('กาแฟ', 311), ('เมนู', 309), ('สั่ง', 301), ('ราคา', 273), ('(', 270)]\n",
            "\n",
            "Cluster ID : 1\n",
            "\n",
            "Most common words include : [('แตงโม', 22), ('น้ำ', 8), ('ปั่น', 6), ('เนื้อ', 6), ('เลือก', 4), ('ซื้อ', 4), ('ดื่ม', 4), ('พันธุ์', 3), ('รับประทาน', 3), ('แก้', 3)]\n",
            "\n",
            "Cluster ID : 2\n",
            "\n",
            "Most common words include : [('แย่มาก', 3), ('โต๊ะ', 2), ('รอง', 2), ('แก้ว', 2), (\"['\", 1), ('ช้ัน', 1), ('ทบ', 1), ('น', 1), ('อาหาร', 1), ('เวลา', 1)]\n",
            "\n",
            "Cluster ID : 3\n",
            "\n",
            "Most common words include : [('นม', 3), ('แน่น', 2), ('เท', 2), ('แก้', 2), (\"['\", 1), ('เรื่อง', 1), ('ขนม', 1), ('สันทัด', 1), ('ดังนั้น', 1), ('review', 1)]\n",
            "\n",
            "Cluster ID : 4\n",
            "\n",
            "Most common words include : [(\"['\", 1), ('สถาน', 1), ('ที่ตั้ง', 1), ('ปากซอย', 1), ('สุขุมวิท', 1), ('บริเวณ', 1), ('ซ้ายมือ', 1), ('ที่นั่ง', 1), ('นั่ง', 1), ('คนอื่น', 1)]\n",
            "\n",
            "Cluster ID : 5\n",
            "\n",
            "Most common words include : [('ปัง', 4), ('ภูเขาไฟ', 3), ('ๆๆๆ', 2), (\"['\", 1), ('อ่', 1), ('กา', 1), ('ศ', 1), ('ร้อน', 1), ('เข้ากัน', 1), ('ฝุดๆ', 1)]\n",
            "\n"
          ]
        }
      ]
    },
    {
      "cell_type": "markdown",
      "metadata": {
        "id": "3aNJxg2ATtmK"
      },
      "source": [
        "**Step 4 - result discussion**"
      ]
    },
    {
      "cell_type": "markdown",
      "metadata": {
        "id": "cQ2SOjNKT1d7"
      },
      "source": [
        "Cluster 0 : ร้านกาแฟที่รวชาติดี คำชมเยอะ\n"
      ]
    },
    {
      "cell_type": "markdown",
      "metadata": {
        "id": "195LmMqVStxu"
      },
      "source": [
        "Cluster 1 : พูดถึงแตงโม และน้ำปั่นเป็นส่วนใหญ่ ทำนายว่าเป็นร้านขายน้ำปั่น"
      ]
    },
    {
      "cell_type": "markdown",
      "metadata": {
        "id": "4bQoMnqfSy4o"
      },
      "source": [
        "Cluster 2 : ร้านที่อาหารไม่อร่อย"
      ]
    },
    {
      "cell_type": "markdown",
      "metadata": {
        "id": "yrZvjmOHS-iz"
      },
      "source": [
        "Cluster 3 : ร้านขนม นมเนย"
      ]
    },
    {
      "cell_type": "markdown",
      "metadata": {
        "id": "3D0CsBZRTbr_"
      },
      "source": [
        "Cluster 4 : ร้านอาหารที่มีสถานที่ตั้งบริเวณถนนสุขุมวิท"
      ]
    },
    {
      "cell_type": "markdown",
      "metadata": {
        "id": "5emM2kxvTpYY"
      },
      "source": [
        "Cluster 5 : ร้านของหวาน ปังเย็นภูเขาไฟ\n"
      ]
    }
  ]
}